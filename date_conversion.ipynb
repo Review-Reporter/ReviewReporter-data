{
  "nbformat": 4,
  "nbformat_minor": 0,
  "metadata": {
    "colab": {
      "name": "date_conversion.ipynb",
      "provenance": []
    },
    "kernelspec": {
      "name": "python3",
      "display_name": "Python 3"
    },
    "language_info": {
      "name": "python"
    }
  },
  "cells": [
    {
      "cell_type": "markdown",
      "source": [
        "**'n일 전'을 크롤링 당일 기준 날짜 형식으로 변환**"
      ],
      "metadata": {
        "id": "1ZfeEaFPwJDi"
      }
    },
    {
      "cell_type": "code",
      "source": [
        "import csv\n",
        "filename = '무신사 스트레치엔젤스 두부백_오프화이트.csv'\n",
        "f = open(filename, 'r', encoding='cp949')\n",
        "data = csv.reader(f, delimiter=',')\n",
        "\n",
        "import datetime\n",
        "lines = []\n",
        "for line in data:\n",
        "  if line[0].count(' ') > 0: # 'n일 전' 이라고 써있을 거니까 날짜 데이터에 띄어쓰기 있으면 변환해야 하는 데이터임\n",
        "    if line[0][-3] == '일':\n",
        "      n = int(line[0][0:-3]) # n일 전\n",
        "    else:\n",
        "      n = 0 # 몇시간 전 (이거는 그냥 당일에 쓰여졌다고 가정)\n",
        "\n",
        "    year = 2022 # 크롤링한 날짜\n",
        "    month = 4\n",
        "    day = 3\n",
        "\n",
        "    date = datetime.datetime(year,month,day) - datetime.timedelta(days = n) # 리뷰가 작성된 날짜\n",
        "    \n",
        "    line[0] = str(date.year) + '.' + str(date.month).zfill(2) + '.' + str(date.day).zfill(2)\n",
        "    \n",
        "  lines.append(line)\n",
        "\n",
        "f = open('무신사 스트레치엔젤스 두부백_오프화이트.csv', 'w', newline='')\n",
        "wr = csv.writer(f)\n",
        "wr.writerows(lines)\n",
        "\n",
        "f.close()"
      ],
      "metadata": {
        "id": "XJlTqHmcweB_"
      },
      "execution_count": 90,
      "outputs": []
    }
  ]
}