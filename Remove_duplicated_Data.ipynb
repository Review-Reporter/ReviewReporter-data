{
 "cells": [
  {
   "cell_type": "code",
   "execution_count": 12,
   "id": "0166e9e3",
   "metadata": {},
   "outputs": [],
   "source": [
    "import pandas as pd\n",
    "import numpy as np\n",
    "import matplotlib.pyplot as plt"
   ]
  },
  {
   "cell_type": "code",
   "execution_count": 23,
   "id": "48758ce1",
   "metadata": {},
   "outputs": [],
   "source": [
    "plt.rc('font', family = 'Malgun Gothic')\n",
    "filename = 'C:/Users/82109/Desktop/꽉잡아 캡스톤/리뷰/백팩 중복값 제거 리뷰.csv'"
   ]
  },
  {
   "cell_type": "code",
   "execution_count": 24,
   "id": "5f4e59cd",
   "metadata": {},
   "outputs": [],
   "source": [
    "df = pd.read_csv(filename)"
   ]
  },
  {
   "cell_type": "code",
   "execution_count": 25,
   "id": "259a6a44",
   "metadata": {},
   "outputs": [
    {
     "data": {
      "text/plain": [
       "0       False\n",
       "1       False\n",
       "2       False\n",
       "3       False\n",
       "4       False\n",
       "        ...  \n",
       "1528    False\n",
       "1529    False\n",
       "1530     True\n",
       "1531    False\n",
       "1532    False\n",
       "Length: 1533, dtype: bool"
      ]
     },
     "execution_count": 25,
     "metadata": {},
     "output_type": "execute_result"
    }
   ],
   "source": [
    "df.duplicated()"
   ]
  },
  {
   "cell_type": "code",
   "execution_count": 26,
   "id": "f94cfdf4",
   "metadata": {},
   "outputs": [
    {
     "data": {
      "text/plain": [
       "False    1449\n",
       "True       84\n",
       "dtype: int64"
      ]
     },
     "execution_count": 26,
     "metadata": {},
     "output_type": "execute_result"
    }
   ],
   "source": [
    "df.duplicated().value_counts()"
   ]
  },
  {
   "cell_type": "code",
   "execution_count": 27,
   "id": "699a54c9",
   "metadata": {},
   "outputs": [],
   "source": [
    " df = df.drop_duplicates(subset=['리뷰'])"
   ]
  },
  {
   "cell_type": "code",
   "execution_count": 28,
   "id": "6a9b8f0b",
   "metadata": {},
   "outputs": [
    {
     "data": {
      "text/plain": [
       "False    1440\n",
       "dtype: int64"
      ]
     },
     "execution_count": 28,
     "metadata": {},
     "output_type": "execute_result"
    }
   ],
   "source": [
    "df.duplicated().value_counts()"
   ]
  },
  {
   "cell_type": "code",
   "execution_count": 29,
   "id": "d9eb5706",
   "metadata": {},
   "outputs": [],
   "source": [
    "df.to_csv('C:/Users/82109/Desktop/꽉잡아 캡스톤/리뷰/백팩 중복값 제거 리뷰2.csv')"
   ]
  },
  {
   "cell_type": "code",
   "execution_count": null,
   "id": "a093230c",
   "metadata": {},
   "outputs": [],
   "source": []
  }
 ],
 "metadata": {
  "kernelspec": {
   "display_name": "Python 3 (ipykernel)",
   "language": "python",
   "name": "python3"
  },
  "language_info": {
   "codemirror_mode": {
    "name": "ipython",
    "version": 3
   },
   "file_extension": ".py",
   "mimetype": "text/x-python",
   "name": "python",
   "nbconvert_exporter": "python",
   "pygments_lexer": "ipython3",
   "version": "3.9.7"
  }
 },
 "nbformat": 4,
 "nbformat_minor": 5
}
