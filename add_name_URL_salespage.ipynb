{
 "cells": [
  {
   "cell_type": "code",
   "execution_count": 2,
   "id": "0712fb19",
   "metadata": {},
   "outputs": [],
   "source": [
    "import pandas as pd\n",
    "import numpy as np\n",
    "import matplotlib.pyplot as plt"
   ]
  },
  {
   "cell_type": "code",
   "execution_count": 81,
   "id": "a287d826",
   "metadata": {},
   "outputs": [],
   "source": [
    "plt.rc('font', family = 'Malgun Gothic')\n",
    "filename = 'C:/Users/82109/Desktop/꽉잡아 캡스톤/리뷰/네이버 스트레치엔젤스 마카롱 호보백 크림.csv'"
   ]
  },
  {
   "cell_type": "code",
   "execution_count": 82,
   "id": "dbfe5d08",
   "metadata": {},
   "outputs": [],
   "source": [
    "df = pd.read_csv(filename)"
   ]
  },
  {
   "cell_type": "code",
   "execution_count": 83,
   "id": "af3d13a9",
   "metadata": {},
   "outputs": [],
   "source": [
    "df['상품명'] = '스트레치엔젤스 마카롱 호보백 크림 SWBG01414CRS'"
   ]
  },
  {
   "cell_type": "code",
   "execution_count": 84,
   "id": "0b540928",
   "metadata": {},
   "outputs": [],
   "source": [
    "df['URL'] = 'https://search.shopping.naver.com/catalog/28896703807?query=%EC%8A%A4%ED%8A%B8%EB%A0%88%EC%B9%98%EC%97%94%EC%A0%A4%EC%8A%A4%20%ED%98%B8%EB%B3%B4%EB%B0%B1&NaPm=ct%3Dl1dbxutc%7Cci%3D54843bec152d5bed788c2fe0c755a84604fb3a8d%7Ctr%3Dslsl%7Csn%3D95694%7Chk%3Deb40908b1c931eac1cbf6315a1a8e56c91ab8d85'"
   ]
  },
  {
   "cell_type": "code",
   "execution_count": 85,
   "id": "2091f5cf",
   "metadata": {},
   "outputs": [],
   "source": [
    "df['판매처'] = '네이버 쇼핑'"
   ]
  },
  {
   "cell_type": "code",
   "execution_count": 86,
   "id": "9347065b",
   "metadata": {},
   "outputs": [],
   "source": [
    "df.to_csv('C:/Users/82109/Desktop/꽉잡아 캡스톤/리뷰/수정파일/네이버 스트레치엔젤스 마카롱 호보백 크림.csv')"
   ]
  },
  {
   "cell_type": "code",
   "execution_count": null,
   "id": "7f1dd0ec",
   "metadata": {},
   "outputs": [],
   "source": []
  }
 ],
 "metadata": {
  "kernelspec": {
   "display_name": "Python 3 (ipykernel)",
   "language": "python",
   "name": "python3"
  },
  "language_info": {
   "codemirror_mode": {
    "name": "ipython",
    "version": 3
   },
   "file_extension": ".py",
   "mimetype": "text/x-python",
   "name": "python",
   "nbconvert_exporter": "python",
   "pygments_lexer": "ipython3",
   "version": "3.9.7"
  }
 },
 "nbformat": 4,
 "nbformat_minor": 5
}
